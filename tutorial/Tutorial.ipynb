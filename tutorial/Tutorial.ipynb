{
 "cells": [
  {
   "cell_type": "code",
   "execution_count": 1,
   "metadata": {},
   "outputs": [
    {
     "name": "stderr",
     "output_type": "stream",
     "text": [
      "┌ Info: Recompiling stale cache file /home/simon/.julia/compiled/v1.1/MultipartiteGraphs/1Z6a2.ji for MultipartiteGraphs [a2191624-ac72-11e9-00f1-677bf6736619]\n",
      "└ @ Base loading.jl:1184\n",
      "WARNING: could not import LightGraphs.has_edges into MultipartiteGraphs\n"
     ]
    },
    {
     "data": {
      "text/plain": [
       "MultipartiteGraph{Int64}({0, 0} undirected Int64 metagraph with Float64 weights defined by :weight (default weight 1.0))"
      ]
     },
     "execution_count": 1,
     "metadata": {},
     "output_type": "execute_result"
    }
   ],
   "source": [
    "using LightGraphs, MetaGraphs, GraphPlot, MultipartiteGraphs\n",
    "\n",
    "g = MultipartiteGraph()"
   ]
  },
  {
   "cell_type": "markdown",
   "metadata": {},
   "source": [
    "## Add some vertices"
   ]
  },
  {
   "cell_type": "code",
   "execution_count": 2,
   "metadata": {},
   "outputs": [],
   "source": [
    "\n",
    "users = [\"u1\", \"u2\", \"u3\"]\n",
    "binaries = [\"10301bf7\", \"f1ef763b\", \"0eed6aff\", \"04ce3f0b\", \"acb725a2\"]\n",
    "domains = [\"domain.com\", \"learn.edu\", \"wikipedia.org\"]\n",
    "ips = [\"93.172.226.55\", \"155.129.86.61\", \"4.204.201.145\", \"241.67.142.157\"]\n",
    "\n",
    "for u in users\n",
    "    add_vertex!(g, \"users\", props=Dict(:name => u))\n",
    "end\n",
    "for b in binaries\n",
    "    add_vertex!(g, \"binaries\", props=Dict(:name => b))\n",
    "end\n",
    "for d in domains\n",
    "    add_vertex!(g, \"domains\", props=Dict(:name => d))\n",
    "end\n",
    "for i in ips\n",
    "    add_vertex!(g, \"ips\", props=Dict(:name => i))\n",
    "end"
   ]
  },
  {
   "cell_type": "markdown",
   "metadata": {},
   "source": [
    "## Add some connections"
   ]
  },
  {
   "cell_type": "code",
   "execution_count": 3,
   "metadata": {},
   "outputs": [
    {
     "data": {
      "text/plain": [
       "true"
      ]
     },
     "execution_count": 3,
     "metadata": {},
     "output_type": "execute_result"
    }
   ],
   "source": [
    "add_edge!(g, 1, 9, \"user-domain\")\n",
    "add_edge!(g, 1, 11, \"user-domain\")\n",
    "add_edge!(g, 2, 10, \"user-domain\")\n",
    "add_edge!(g, 3, 9, \"user-domain\")\n",
    "add_edge!(g, 4, 11, \"binary-domain\")\n",
    "add_edge!(g, 4, 11, \"binary-domain\")\n",
    "add_edge!(g, 5, 10, \"binary-domain\")\n",
    "add_edge!(g, 6, 10, \"binary-domain\")\n",
    "add_edge!(g, 6, 9, \"binary-domain\")\n",
    "add_edge!(g, 7, 9, \"binary-domain\")\n",
    "add_edge!(g, 8, 9, \"binary-domain\")\n",
    "add_edge!(g, 12, 11, \"ip-domain\")\n",
    "add_edge!(g, 13, 11, \"ip-domain\")\n",
    "add_edge!(g, 14, 9, \"ip-domain\")\n",
    "add_edge!(g, 14, 10, \"ip-domain\")\n",
    "add_edge!(g, 15, 11, \"ip-domain\")"
   ]
  },
  {
   "cell_type": "code",
   "execution_count": null,
   "metadata": {},
   "outputs": [],
   "source": [
    "nodelabel=[users; binaries; domains; ips]\n",
    "nodecolor = [\"lightseagreen\", \"orange\", \"red\", \"blue\"]\n",
    "nodefillc = nodecolor[[fill(1, length(users));\n",
    "                       fill(2, length(binaries));\n",
    "                       fill(3, length(domains));\n",
    "                       fill(4, length(ips))]]\n",
    "gplot(g, nodelabel=nodelabel, nodefillc=nodefillc, layout=circular_layout)"
   ]
  },
  {
   "cell_type": "markdown",
   "metadata": {},
   "source": [
    "## All Lightgraphs methods work"
   ]
  },
  {
   "cell_type": "code",
   "execution_count": null,
   "metadata": {},
   "outputs": [],
   "source": [
    "nv(g)"
   ]
  },
  {
   "cell_type": "code",
   "execution_count": null,
   "metadata": {},
   "outputs": [],
   "source": [
    "ne(g)"
   ]
  },
  {
   "cell_type": "code",
   "execution_count": null,
   "metadata": {},
   "outputs": [],
   "source": [
    "edges(g)"
   ]
  },
  {
   "cell_type": "code",
   "execution_count": null,
   "metadata": {},
   "outputs": [],
   "source": [
    "@which gplot(g, nodelabel=nodelabel)"
   ]
  },
  {
   "cell_type": "code",
   "execution_count": null,
   "metadata": {},
   "outputs": [],
   "source": []
  }
 ],
 "metadata": {
  "@webio": {
   "lastCommId": "186d9f8c45374df7867b8edc9101af81",
   "lastKernelId": "a4d39fb1-b421-444b-bd48-4233d943c60d"
  },
  "kernelspec": {
   "display_name": "Julia 1.1.0",
   "language": "julia",
   "name": "julia-1.1"
  },
  "language_info": {
   "file_extension": ".jl",
   "mimetype": "application/julia",
   "name": "julia",
   "version": "1.1.0"
  }
 },
 "nbformat": 4,
 "nbformat_minor": 2
}
